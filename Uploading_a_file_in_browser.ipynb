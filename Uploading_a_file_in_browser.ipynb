{
  "nbformat": 4,
  "nbformat_minor": 0,
  "metadata": {
    "colab": {
      "name": "Uploading_a_file_in_browser.ipynb",
      "provenance": []
    },
    "kernelspec": {
      "name": "python3",
      "display_name": "Python 3"
    },
    "language_info": {
      "name": "python"
    }
  },
  "cells": [
    {
      "cell_type": "code",
      "metadata": {
        "id": "Ibv_QV6Oe4J6"
      },
      "source": [
        "from google.colab import files\n",
        "# from google.colab import files\n",
        "import cv2\n",
        "from google.colab.patches import cv2_imshow\n",
        "import numpy as np\n"
      ],
      "execution_count": null,
      "outputs": []
    },
    {
      "cell_type": "code",
      "metadata": {
        "id": "jY_U3KvkfDK_"
      },
      "source": [
        "# Upload image files.\n",
        "uploaded = files.upload()\n",
        "\n",
        "# Read images with OpenCV.\n",
        "img = {name: cv2.imread(name) for name in uploaded.keys()}\n",
        "# image=uploaded.keys()\n",
        "# Preview the images.\n",
        "\n",
        "for name, image in img.items():\n",
        "  print(name)   \n",
        "  k=image\n",
        "  cv2_imshow(image)"
      ],
      "execution_count": null,
      "outputs": []
    }
  ]
}