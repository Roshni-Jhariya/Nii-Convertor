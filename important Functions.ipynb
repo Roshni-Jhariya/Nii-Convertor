{
 "cells": [
  {
   "cell_type": "code",
   "execution_count": null,
   "metadata": {},
   "outputs": [],
   "source": [
    "import zipfile\n",
    "with zipfile.ZipFile('PathtoUrData.zip', 'r') as zip_ref:\n",
    "    zip_ref.extractall('Path_where_u_want to+_save _files')"
   ]
  },
  {
   "cell_type": "code",
   "execution_count": null,
   "metadata": {},
   "outputs": [],
   "source": [
    "#!/usr/bin/env python\n",
    "#########################################\n",
    "#       nii2png for Python 3.7          #\n",
    "#         NIfTI Image Converter         #\n",
    "#                                       #\n",
    "#                                       #\n",
    "#     Written by Roshni Jhariya         #\n",
    "#                                       #\n",
    "#      roshnijh1997@gmail.com           #\n",
    "#            30/12/2020                 #\n",
    "#                                       #\n",
    "#########################################"
   ]
  },
  {
   "cell_type": "code",
   "execution_count": null,
   "metadata": {},
   "outputs": [],
   "source": [
    "train_x_path = 'example.*nii.gz'#Give path to ur .nii files\n",
    "all_images=glob.glob(train_x_path)\n",
    "for i in range(len(all_images)):\n",
    "    image_array = nib.load(all_images[i]).get_data()\n",
    "    print(image_array.shape)\n",
    "    total_slices=image_array.shape[2]\n",
    "    print (total_slices)\n",
    "    \n",
    "    for j in range(0,total_slices):\n",
    "        data= image_array[:,:,j]\n",
    "        print(data.shape)\n",
    "        image_name =\"Image\"+format(str(i+1))+\"Slice\"+format(str(j+1))+ \".png\"\n",
    "        imageio.imwrite(image_name, data)"
   ]
  },
  {
   "cell_type": "code",
   "execution_count": null,
   "metadata": {},
   "outputs": [],
   "source": []
  }
 ],
 "metadata": {
  "kernelspec": {
   "display_name": "Python 3",
   "language": "python",
   "name": "python3"
  },
  "language_info": {
   "codemirror_mode": {
    "name": "ipython",
    "version": 3
   },
   "file_extension": ".py",
   "mimetype": "text/x-python",
   "name": "python",
   "nbconvert_exporter": "python",
   "pygments_lexer": "ipython3",
   "version": "3.8.5"
  }
 },
 "nbformat": 4,
 "nbformat_minor": 4
}
